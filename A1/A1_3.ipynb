{
 "cells": [
  {
   "cell_type": "code",
   "execution_count": 1,
   "metadata": {
    "collapsed": true
   },
   "outputs": [],
   "source": [
    "import numpy as np\n",
    "import pandas as pd\n",
    "from nltk.tokenize import sent_tokenize, word_tokenize\n"
   ]
  },
  {
   "cell_type": "code",
   "execution_count": 2,
   "metadata": {},
   "outputs": [
    {
     "name": "stdout",
     "output_type": "stream",
     "text": [
      "<class 'list'>\n",
      "<class 'str'>\n"
     ]
    }
   ],
   "source": [
    "file = open('./datasets_assignement1/P3_training_data.csv')\n",
    "data = file.readlines()\n",
    "print(type(data))\n",
    "print(type(data[1]))\n",
    "\n",
    "data[1]\n",
    "pos_data = data[0:720]\n",
    "neg_data = data[800:1520]"
   ]
  },
  {
   "cell_type": "code",
   "execution_count": 3,
   "metadata": {},
   "outputs": [
    {
     "name": "stdout",
     "output_type": "stream",
     "text": [
      "Pos  every now and then a movie comes along from a suspect studio   with every indication that it will be a stinker   and to everybody s surprise   perhaps even the studio   the film becomes a critical darling    mtv films   election   a high school comedy starring matthew broderick and reese witherspoon   is a current example    did anybody know this film existed a week before it opened    the plot is deceptively simple    george washington carver high school is having student elections    tracy flick   reese witherspoon   is an over achiever with her hand raised at nearly every question   way   way   high    mr     m     matthew broderick     sick of the megalomaniac student   encourages paul   a popular but slow jock to run    and paul s nihilistic sister jumps in the race as well   for personal reasons    the dark side of such sleeper success is that   because expectations were so low going in   the fact that this was quality stuff made the reviews even more enthusiastic than they have any right to be    you can t help going in with the baggage of glowing reviews   which is in contrast to the negative baggage that the reviewers were likely to have     election   a good film   does not live up to its hype    what makes  election  so disappointing is that it contains significant plot details lifted directly from  rushmore    released a few months earlier    the similarities are staggering    tracy flick    election    is the president of an extraordinary number of clubs   and is involved with the school play    max fischer    rushmore    is the president of an extraordinary number of clubs   and is involved with the school play    the most significant tension of  election  is the potential relationship between a teacher and his student    the most significant tension of  rushmore  is the potential relationship between a teacher and his student    tracy flick is from a single parent home   which has contributed to her drive    max fischer is from a single parent home   which has contributed to his drive    the male bumbling adult in  election    matthew broderick   pursues an extramarital affair   gets caught   and his whole life is ruined    he even gets a bee sting    the male bumbling adult in  rushmore    bill murray   pursues an extramarital affair   gets caught   and his whole life is ruined    he gets several bee stings    and so on    what happened    how is it that an individual screenplay    rushmore    and a novel    election    contain so many significant plot points   and yet both films were probably not even aware of each other   made from two different studios   from a genre   the high school geeks revenge movie   that hadn t been fully formed yet    even so   the strengths of  election  rely upon its fantastic performances from broderick   witherspoon   and newcomer jessica campbell   as paul s anti social sister   tammy    broderick here is playing the mr   rooney role from  ferris bueller    and he seems to be having the most fun he s had since then    witherspoon is a revelation    it s early in the year   it s a comedy   and teenagers have little clout   but for my money   witherspoon deserves an oscar nomination    and once campbell s character gets going   like in her fantastic speech in the gymnasium   then you re won over    one thing that s been bothering me since i ve seen it    there is an extraordinary amount of sexuality in this film    i suppose that   coming from mtv films   i should expect no less        but the film starts off light and airy   like a sitcom    as the screws tighten   and the tensions mount   alexander payne decides to add elements that   frankly   distract from the story    it is bad enough that mr   m doesn t like tracy s determination to win at all costs   but did they have to throw in the student/teacher relationship    even so   there s no logical reason why mr   m has an affair when he does    there s a lot to like in  election    but the plot similarities to  rushmore    and the tonal nosedive it takes as it gets explicitly sex driven   mark this as a disappointment    \n",
      "\n"
     ]
    }
   ],
   "source": [
    "print(data[1])"
   ]
  },
  {
   "cell_type": "code",
   "execution_count": 4,
   "metadata": {},
   "outputs": [
    {
     "name": "stdout",
     "output_type": "stream",
     "text": [
      "508782\n"
     ]
    }
   ],
   "source": [
    "pos_dict = {}\n",
    "pos_n = 0\n",
    "for i in range(len(pos_data)):\n",
    "    for j, word in enumerate(word_tokenize(pos_data[i])):\n",
    "        if j != 0:\n",
    "            if word in pos_dict :\n",
    "                pos_dict[word] += 1\n",
    "            else:\n",
    "                pos_dict[word] = 1\n",
    "            pos_n += 1\n",
    "            \n",
    "print(pos_n)"
   ]
  },
  {
   "cell_type": "code",
   "execution_count": 5,
   "metadata": {},
   "outputs": [
    {
     "name": "stdout",
     "output_type": "stream",
     "text": [
      "453703\n"
     ]
    }
   ],
   "source": [
    "neg_dict = {}\n",
    "neg_n = 0\n",
    "for i in range(len(neg_data)):\n",
    "    for j, word in enumerate(word_tokenize(neg_data[i])):\n",
    "        if j != 0:\n",
    "            if word in neg_dict :\n",
    "                neg_dict[word] += 1\n",
    "            else:\n",
    "                neg_dict[word] = 1\n",
    "            \n",
    "            neg_n += 1\n",
    "            \n",
    "print(neg_n)\n",
    "                    "
   ]
  },
  {
   "cell_type": "code",
   "execution_count": 6,
   "metadata": {
    "collapsed": true
   },
   "outputs": [],
   "source": [
    "def P(test, Class=None):\n",
    "    X_test = word_tokenize(test)\n",
    "    probab = 1.\n",
    "    k = 0\n",
    "    N = 0\n",
    "    if(Class == \"pos\"):\n",
    "        N = pos_n\n",
    "        for word in X_test:\n",
    "            probab *= pos_dict[word]\n",
    "            k += 1\n",
    "    else:\n",
    "        N = neg_n\n",
    "        for word in X_test:\n",
    "            probab *= neg_dict[word]\n",
    "            k += 1\n",
    "    \n",
    "    l_probab = np.log10(probab) - k* np.log10(N)\n",
    "    \n",
    "    return l_probab, k, N"
   ]
  },
  {
   "cell_type": "code",
   "execution_count": 9,
   "metadata": {},
   "outputs": [
    {
     "name": "stdout",
     "output_type": "stream",
     "text": [
      "test line: extramarital affair   gets caught   and his whole life is ruined    he even gets a bee sting    the male bumbling adult in  rushmore\n",
      "Pos with probab:  1.90024423102e-32 -75.0248711825\n"
     ]
    }
   ],
   "source": [
    "## naive bayes classifier\n",
    "\n",
    "test = input(\"test line: \")\n",
    "\n",
    "P_pos, no_words, N_pos = P(test,\"pos\")\n",
    "P_neg, no_words, N_neg = P(test,\"neg\")\n",
    "\n",
    "if(P_pos > P_neg):\n",
    "    print(\"Pos with probab: \", P_pos ,P_neg )\n",
    "else:\n",
    "    print(\"Neg with probab: \", P_pos , P_neg )"
   ]
  },
  {
   "cell_type": "code",
   "execution_count": null,
   "metadata": {
    "collapsed": true
   },
   "outputs": [],
   "source": []
  }
 ],
 "metadata": {
  "kernelspec": {
   "display_name": "Python 3",
   "language": "python",
   "name": "python3"
  },
  "language_info": {
   "codemirror_mode": {
    "name": "ipython",
    "version": 3
   },
   "file_extension": ".py",
   "mimetype": "text/x-python",
   "name": "python",
   "nbconvert_exporter": "python",
   "pygments_lexer": "ipython3",
   "version": "3.6.3"
  }
 },
 "nbformat": 4,
 "nbformat_minor": 2
}
