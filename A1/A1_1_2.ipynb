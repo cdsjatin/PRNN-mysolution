{
 "cells": [
  {
   "cell_type": "code",
   "execution_count": 1,
   "metadata": {
    "collapsed": true
   },
   "outputs": [],
   "source": [
    "import csv\n",
    "import numpy as np\n",
    "import matplotlib.pyplot as plt\n",
    "import pandas as pd\n",
    "import scipy.stats as stat\n",
    "\n",
    "%matplotlib inline"
   ]
  },
  {
   "cell_type": "code",
   "execution_count": 2,
   "metadata": {},
   "outputs": [
    {
     "name": "stdout",
     "output_type": "stream",
     "text": [
      "400\n"
     ]
    }
   ],
   "source": [
    "## 0 --- 1 = 0 pos\n",
    "## 1 -- -1 = 1 neg\n",
    "\n",
    "train = pd.read_csv('./datasets_assignement1/P1b_training_data.txt',skiprows=0, header=None)\n",
    "    \n",
    "print(len(train))"
   ]
  },
  {
   "cell_type": "code",
   "execution_count": 3,
   "metadata": {},
   "outputs": [
    {
     "name": "stdout",
     "output_type": "stream",
     "text": [
      "(400,) (400,)\n",
      "(200,) (200,)\n"
     ]
    }
   ],
   "source": [
    "X_train = train.values[:,0]\n",
    "y_train = train.values[:,1]\n",
    "\n",
    "print(X_train.shape, y_train.shape)\n",
    "\n",
    "X_train_0 = X_train[:200]\n",
    "y_train_0 = y_train[:200]\n",
    "\n",
    "X_train_1 = X_train[200:]\n",
    "y_train_1 = y_train[200:]\n",
    "\n",
    "print(X_train_0.shape, X_train_1.shape)"
   ]
  },
  {
   "cell_type": "code",
   "execution_count": 4,
   "metadata": {},
   "outputs": [
    {
     "name": "stdout",
     "output_type": "stream",
     "text": [
      "-0.062505 1.01272485897\n",
      "-0.119335 1.89888590831\n"
     ]
    }
   ],
   "source": [
    "mu0 = np.average(X_train_0)\n",
    "var0 = np.var(X_train_0)\n",
    "sig0 = np.sqrt(var0)\n",
    "\n",
    "mu1 = np.average(X_train_1)\n",
    "var1 = np.var(X_train_1)\n",
    "sig1 = np.sqrt(var1)\n",
    "\n",
    "print(mu0, sig0)\n",
    "print(mu1, sig1)"
   ]
  },
  {
   "cell_type": "code",
   "execution_count": 5,
   "metadata": {},
   "outputs": [
    {
     "data": {
      "text/plain": [
       "(array([  1.,   3.,  13.,  17.,  36.,  39.,  38.,  27.,  19.,   7.]),\n",
       " array([-5.931 , -4.9208, -3.9106, -2.9004, -1.8902, -0.88  ,  0.1302,\n",
       "         1.1404,  2.1506,  3.1608,  4.171 ]),\n",
       " <a list of 10 Patch objects>)"
      ]
     },
     "execution_count": 5,
     "metadata": {},
     "output_type": "execute_result"
    },
    {
     "data": {
      "image/png": "[encoded data removed]",
      "text/plain": [
       "<matplotlib.figure.Figure at 0x7fc8337dba20>"
      ]
     },
     "metadata": {},
     "output_type": "display_data"
    }
   ],
   "source": [
    "plt.figure\n",
    "plt.hist(X_train_0)\n",
    "\n",
    "plt.hist(X_train_1, alpha=0.8)"
   ]
  },
  {
   "cell_type": "code",
   "execution_count": 6,
   "metadata": {},
   "outputs": [
    {
     "name": "stdout",
     "output_type": "stream",
     "text": [
      "400\n"
     ]
    }
   ],
   "source": [
    "# Bayes Classifier\n",
    "test = pd.read_csv('./datasets_assignement1/P1b_test_data.txt',skiprows=0, header=None)\n",
    "    \n",
    "print(len(test))"
   ]
  },
  {
   "cell_type": "code",
   "execution_count": 7,
   "metadata": {},
   "outputs": [
    {
     "name": "stdout",
     "output_type": "stream",
     "text": [
      "(400,) (400,)\n"
     ]
    }
   ],
   "source": [
    "X_test = train.values[:,0]\n",
    "y_test = train.values[:,1]\n",
    "\n",
    "print(X_test.shape, y_test.shape)"
   ]
  },
  {
   "cell_type": "code",
   "execution_count": 8,
   "metadata": {
    "collapsed": true
   },
   "outputs": [],
   "source": [
    "def accuracy(y_predict, y_test):\n",
    "    return np.average(y_predict == y_test)"
   ]
  },
  {
   "cell_type": "code",
   "execution_count": 9,
   "metadata": {
    "collapsed": true
   },
   "outputs": [],
   "source": [
    "def P(x, Class=None):\n",
    "    if Class == 0:\n",
    "        return stat.norm(mu0, sig0).pdf(x)\n",
    "    else:\n",
    "        return stat.norm(mu1, sig1).pdf(x)"
   ]
  },
  {
   "cell_type": "code",
   "execution_count": 10,
   "metadata": {},
   "outputs": [
    {
     "name": "stdout",
     "output_type": "stream",
     "text": [
      "0.65\n"
     ]
    }
   ],
   "source": [
    "y_predict = [] ## 0 --- 1 = 0 pos\n",
    "               ## 1 -- -1 = 1 neg\n",
    "for i in range(len(test)):\n",
    "    if P(X_test[i], 0) > P(X_test[i], 1):\n",
    "        y_predict.append(1)\n",
    "    else:\n",
    "        y_predict.append(-1)\n",
    "        \n",
    "print(accuracy(y_predict, y_test))"
   ]
  },
  {
   "cell_type": "code",
   "execution_count": null,
   "metadata": {
    "collapsed": true
   },
   "outputs": [],
   "source": []
  }
 ],
 "metadata": {
  "kernelspec": {
   "display_name": "Python 3",
   "language": "python",
   "name": "python3"
  },
  "language_info": {
   "codemirror_mode": {
    "name": "ipython",
    "version": 3
   },
   "file_extension": ".py",
   "mimetype": "text/x-python",
   "name": "python",
   "nbconvert_exporter": "python",
   "pygments_lexer": "ipython3",
   "version": "3.6.3"
  }
 },
 "nbformat": 4,
 "nbformat_minor": 2
}
