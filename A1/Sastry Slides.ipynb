{
 "cells": [
  {
   "cell_type": "markdown",
   "metadata": {},
   "source": [
    "- Parametric: We assume we have iid realizations of a random variable X whose distribution is known except for values of a parameter vector. We estimate the parameters of the density using the samples available.\n",
    " \n",
    "- In non-parametric approach we do not assume form of density. It is often modelled as a convex combination of some densities using the samples."
   ]
  },
  {
   "cell_type": "markdown",
   "metadata": {},
   "source": [
    "### Unbiased Estimators\n",
    "$\\hat{\\theta_1}$ = 1/n $\\sum_i x_i$ <br/>\n",
    "$\\hat{\\theta_2}$ = $0.5(x_i + x_{i+1})$"
   ]
  },
  {
   "cell_type": "markdown",
   "metadata": {},
   "source": [
    "1. **Since, Unbiased is not enough **"
   ]
  },
  {
   "cell_type": "markdown",
   "metadata": {},
   "source": [
    "Mean Sqaure Error = Variance($\\hat{\\theta}$) + Bias($\\hat \\theta$) <br/>\n",
    "Var($\\hat\\theta$) = E$_\\theta$[$(\\hat\\theta - E[\\hat\\theta])^2$] <br/>\n",
    "Bias($\\hat\\theta$) = $E_\\theta[\\hat\\theta] - \\theta$\n",
    "\n",
    "- **So for unbiased Low variance means low mean square error**"
   ]
  },
  {
   "cell_type": "markdown",
   "metadata": {},
   "source": [
    "var($\\hat\\theta_1$) = $\\dfrac{\\sigma^2}{n}$ <br/>\n",
    "var($\\hat\\theta_2$) = $\\dfrac{\\sigma^2}{2}$ <br/>\n",
    "** uniformly minimum variance unbiased estimator **"
   ]
  },
  {
   "cell_type": "markdown",
   "metadata": {},
   "source": [
    "**  Consistent **\n"
   ]
  }
 ],
 "metadata": {
  "kernelspec": {
   "display_name": "Python 3",
   "language": "python",
   "name": "python3"
  },
  "language_info": {
   "codemirror_mode": {
    "name": "ipython",
    "version": 3
   },
   "file_extension": ".py",
   "mimetype": "text/x-python",
   "name": "python",
   "nbconvert_exporter": "python",
   "pygments_lexer": "ipython3",
   "version": "3.6.3"
  }
 },
 "nbformat": 4,
 "nbformat_minor": 2
}
