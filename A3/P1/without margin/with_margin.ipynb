{
 "cells": [
  {
   "cell_type": "code",
   "execution_count": 2,
   "metadata": {
    "collapsed": true
   },
   "outputs": [],
   "source": [
    "import numpy as np\n",
    "import pandas as pd\n",
    "from scipy.stats import norm\n",
    "import matplotlib.pyplot as plt\n",
    "import time \n",
    "\n",
    "%matplotlib inline\n",
    "plt.rcParams['figure.figsize'] = (7,4)"
   ]
  },
  {
   "cell_type": "markdown",
   "metadata": {},
   "source": [
    "### Description about Dataset\n",
    "100 points were sampled from [-1 1]^10 cuboid.\n",
    "The hyperplane with parameters \n",
    "\n",
    "w=[1 -1 1 -1 1 -1 1 -1 1 -1 ]'  b=0;\n",
    "\n",
    "is used to divide the samples into two classes.\n",
    "\n",
    "It was made sure that all the points are atleast 0.05 distance away from the separating hyperplane.\n",
    "\n",
    "\n"
   ]
  },
  {
   "cell_type": "code",
   "execution_count": 3,
   "metadata": {},
   "outputs": [
    {
     "name": "stdout",
     "output_type": "stream",
     "text": [
      "(101, 10)\n",
      "(101,)\n"
     ]
    },
    {
     "data": {
      "text/plain": [
       "<matplotlib.legend.Legend at 0x7faaa0a8e9b0>"
      ]
     },
     "execution_count": 3,
     "metadata": {},
     "output_type": "execute_result"
    },
    {
     "data": {
      "image/png": "[encoded data removed]",
      "text/plain": [
       "<matplotlib.figure.Figure at 0x7faa82558a90>"
      ]
     },
     "metadata": {},
     "output_type": "display_data"
    }
   ],
   "source": [
    "## Question\n",
    "train = pd.read_csv('./P1b_training_data',skiprows=0, header=None)\n",
    "#print(train.head)\n",
    "\n",
    "X_train = train.values[:,0:-1]\n",
    "y_train = train.values[:,-1]\n",
    "print(X_train.shape)\n",
    "print(y_train.shape)\n",
    "\n",
    "N = len(X_train)\n",
    "d = X_train.shape[1] \n",
    "\n",
    "mu = np.average(X_train)\n",
    "var = np.var(X_train)\n",
    "sig = np.sqrt(var)\n",
    "\n",
    "plt.figure\n",
    "plt.hist(X_train)\n",
    "plt.legend(range(d))"
   ]
  },
  {
   "cell_type": "markdown",
   "metadata": {
    "collapsed": true
   },
   "source": [
    "### Problem Statement\n",
    "\n"
   ]
  },
  {
   "cell_type": "markdown",
   "metadata": {},
   "source": [
    "P1. This gives 10-dimensional data that is linearly separable. There are two cases: one in which it is ensured that all data is a minimum distance away from the separating hyperplane and the second case where this is not done. <br/>\n",
    "You have to learn a separating hyperplane using Perceptron, LMS algorithm and using the standard formula (that uses generalized inverse). In each case vary training set sizes and any other parameters that you think should be varied (e.g., step-size in LMS, starting point in Perceptron). In all cases find accuracies on test set. What you need to submit, as earlier, is a summary of your results and a discussion of the results. "
   ]
  },
  {
   "cell_type": "markdown",
   "metadata": {},
   "source": [
    "## Perceptron\n",
    "\n",
    "vary starting point"
   ]
  },
  {
   "cell_type": "code",
   "execution_count": 6,
   "metadata": {},
   "outputs": [
    {
     "name": "stdout",
     "output_type": "stream",
     "text": [
      "0 1.0\n",
      "(101, 11)\n",
      "0.940594059406\n"
     ]
    },
    {
     "data": {
      "text/plain": [
       "Text(0.5,0,'epochs')"
      ]
     },
     "execution_count": 6,
     "metadata": {},
     "output_type": "execute_result"
    },
    {
     "data": {
      "image/png": "[encoded data removed]",
      "text/plain": [
       "<matplotlib.figure.Figure at 0x7faa7b8c36d8>"
      ]
     },
     "metadata": {},
     "output_type": "display_data"
    }
   ],
   "source": [
    "## Augmented initial Weight vector\n",
    "#np.random.seed(1)\n",
    "W = np.random.randn(d + 1)\n",
    "#print(W.shape)\n",
    "\n",
    "## generating -1 dataset and augmented dataset\n",
    "print(np.argmin(y_train), y_train[1])\n",
    "\n",
    "\n",
    "X_aug = np.column_stack( (X_train, np.ones(shape=(N,)) ))\n",
    "X_ = X_aug * y_train[:,np.newaxis]\n",
    "\n",
    "print(X_.shape)\n",
    "acc = []\n",
    "## Perceptron Algorithm\n",
    "for epoch in range(10):\n",
    "    count = 0\n",
    "    for i in range(N):\n",
    "        if(W.dot(X_[i,]) <= 0):\n",
    "            W += X_[i,]\n",
    "            count += 1\n",
    "    #print(count)\n",
    "            #W = W / np.linalg.norm(W,2)\n",
    "    acc.append(perceptron_accuracy(X_train, N, y_train, W))\n",
    "print(acc[-1])\n",
    "plt.plot(acc)\n",
    "plt.ylabel('Accuracy')\n",
    "plt.xlabel('epochs')"
   ]
  },
  {
   "cell_type": "markdown",
   "metadata": {},
   "source": [
    "##### Checking classifier with training dataset"
   ]
  },
  {
   "cell_type": "code",
   "execution_count": 7,
   "metadata": {},
   "outputs": [
    {
     "data": {
      "text/plain": [
       "0.94059405940594054"
      ]
     },
     "execution_count": 7,
     "metadata": {},
     "output_type": "execute_result"
    }
   ],
   "source": [
    "def perceptron_accuracy(X, N, y, W):\n",
    "    X = np.column_stack( (X, np.ones(shape=(N,)) ))\n",
    "\n",
    "    # Calculating accuracy\n",
    "    y_mask = X.dot(W[:,np.newaxis]) > 0     \n",
    "    y_ = y > 0\n",
    "    \n",
    "    return(np.sum(y_ == y_mask.squeeze()) /N) \n",
    "    #print('accuracy = {:.3f}'.format(np.sum(y_ == y_mask.squeeze()) /N_test ))\n",
    "\n",
    "perceptron_accuracy(X_train, N, y_train, W)"
   ]
  },
  {
   "cell_type": "markdown",
   "metadata": {},
   "source": [
    "##### Accuracy Perceptron Algorithm on test dataset"
   ]
  },
  {
   "cell_type": "code",
   "execution_count": 8,
   "metadata": {},
   "outputs": [
    {
     "data": {
      "text/plain": [
       "0.88118811881188119"
      ]
     },
     "execution_count": 8,
     "metadata": {},
     "output_type": "execute_result"
    }
   ],
   "source": [
    "perceptron_accuracy(X_test, N_test, y_test, W)"
   ]
  },
  {
   "cell_type": "markdown",
   "metadata": {},
   "source": [
    "## LMS algorithm\n",
    "\n",
    "vary step size"
   ]
  },
  {
   "cell_type": "code",
   "execution_count": 11,
   "metadata": {},
   "outputs": [
    {
     "name": "stdout",
     "output_type": "stream",
     "text": [
      "0.960396039604\n"
     ]
    },
    {
     "data": {
      "text/plain": [
       "Text(0.5,0,'epochs')"
      ]
     },
     "execution_count": 11,
     "metadata": {},
     "output_type": "execute_result"
    },
    {
     "data": {
      "image/png": "[encoded data removed]",
      "text/plain": [
       "<matplotlib.figure.Figure at 0x7faa7b717160>"
      ]
     },
     "metadata": {},
     "output_type": "display_data"
    }
   ],
   "source": [
    "# initializes weight\n",
    "W = np.random.randn(d + 1, 1)\n",
    "#print(W.shape)\n",
    "lr = 1e-4\n",
    "\n",
    "X_ = np.column_stack( (X_train, np.ones(shape=(N,)) ))\n",
    "#print(X_.shape)\n",
    "acc = []\n",
    "for epoch in range(1000):\n",
    "    for i in range(N):\n",
    "        x = X_[i,:][:,np.newaxis].T\n",
    "        #x = x[:,np.newaxis].T\n",
    "        er = x.dot(W) - y_train[i]\n",
    "        W = W - lr*(x.T.dot(er))\n",
    "    acc.append(lms_accuracy(X_train, y_train, W))\n",
    "    \n",
    "print(acc[-1])\n",
    "plt.plot(acc)\n",
    "plt.ylabel('Accuracy')\n",
    "plt.xlabel('epochs')"
   ]
  },
  {
   "cell_type": "code",
   "execution_count": 12,
   "metadata": {
    "collapsed": true
   },
   "outputs": [],
   "source": [
    "def lms_accuracy(X, y , W):\n",
    "    N = X.shape[0]\n",
    "    X = np.column_stack( (X, np.ones(shape=(N,)) ))\n",
    "    \n",
    "    # Calculating accuracy\n",
    "    y_mask = X.dot(W) > 0     \n",
    "    y_ = y > 0\n",
    "    \n",
    "    return(np.sum(y_ == y_mask.squeeze()) /N) \n",
    "    #print('accuracy = {:.3f}'.format(np.sum(y_ == y_mask.squeeze()) /N))\n",
    "    "
   ]
  },
  {
   "cell_type": "code",
   "execution_count": 13,
   "metadata": {},
   "outputs": [
    {
     "name": "stdout",
     "output_type": "stream",
     "text": [
      "test accuracy 0.950\n"
     ]
    }
   ],
   "source": [
    "print('test accuracy {:.3f}'.format(lms_accuracy(X_test, y_test, W)))"
   ]
  },
  {
   "cell_type": "markdown",
   "metadata": {},
   "source": [
    "## Generalized Inverse\n",
    "\n",
    "In all find accuracies"
   ]
  },
  {
   "cell_type": "code",
   "execution_count": 14,
   "metadata": {},
   "outputs": [
    {
     "name": "stdout",
     "output_type": "stream",
     "text": [
      "accuracy 0.970\n"
     ]
    }
   ],
   "source": [
    "X_ = np.column_stack( (X_train, np.ones(shape=(N,)) ))\n",
    "\n",
    "# inverse\n",
    "Xinv = np.linalg.inv(X_.T.dot(X_))\n",
    "#print(Xinv.shape)\n",
    "\n",
    "W = Xinv.dot(X_.T.dot(y_train))\n",
    "\n",
    "print(\"accuracy {:.3f}\".format(lms_accuracy(X_train, y_train, W)))"
   ]
  },
  {
   "cell_type": "code",
   "execution_count": 15,
   "metadata": {},
   "outputs": [
    {
     "name": "stdout",
     "output_type": "stream",
     "text": [
      "test accuracy 0.901\n"
     ]
    }
   ],
   "source": [
    "print(\"test accuracy {:.3f}\".format(lms_accuracy(X_test, y_test, W)))"
   ]
  },
  {
   "cell_type": "markdown",
   "metadata": {
    "collapsed": true
   },
   "source": [
    "<hr>"
   ]
  },
  {
   "cell_type": "markdown",
   "metadata": {},
   "source": [
    "# Testing"
   ]
  },
  {
   "cell_type": "code",
   "execution_count": 16,
   "metadata": {},
   "outputs": [
    {
     "name": "stdout",
     "output_type": "stream",
     "text": [
      "(101, 10)\n",
      "(101,)\n"
     ]
    },
    {
     "data": {
      "text/plain": [
       "<matplotlib.legend.Legend at 0x7faa845a1048>"
      ]
     },
     "execution_count": 16,
     "metadata": {},
     "output_type": "execute_result"
    },
    {
     "data": {
      "image/png": "[encoded data removed]",
      "text/plain": [
       "<matplotlib.figure.Figure at 0x7faa7b6c4eb8>"
      ]
     },
     "metadata": {},
     "output_type": "display_data"
    }
   ],
   "source": [
    "## Question\n",
    "test = pd.read_csv('./P1b_test_data',skiprows=0, header=None)\n",
    "#print(train.head)\n",
    "\n",
    "X_test = test.values[:,0:-1]\n",
    "y_test = test.values[:,-1]\n",
    "print(X_test.shape)\n",
    "print(y_test.shape)\n",
    "\n",
    "N_test = len(X_test)\n",
    "d = X_test.shape[1] \n",
    "\n",
    "mu = np.average(X_test)\n",
    "var = np.var(X_test)\n",
    "sig = np.sqrt(var)\n",
    "\n",
    "plt.figure\n",
    "plt.hist(X_test)\n",
    "plt.legend(range(d))"
   ]
  },
  {
   "cell_type": "markdown",
   "metadata": {},
   "source": [
    "<hr>"
   ]
  },
  {
   "cell_type": "markdown",
   "metadata": {},
   "source": [
    "# Sklearn Code"
   ]
  },
  {
   "cell_type": "code",
   "execution_count": 17,
   "metadata": {
    "collapsed": true
   },
   "outputs": [],
   "source": [
    "import sklearn.linear_model as lm"
   ]
  },
  {
   "cell_type": "markdown",
   "metadata": {},
   "source": [
    "### Perceptron"
   ]
  },
  {
   "cell_type": "code",
   "execution_count": 18,
   "metadata": {},
   "outputs": [
    {
     "name": "stdout",
     "output_type": "stream",
     "text": [
      "accuracy 0.970\n"
     ]
    }
   ],
   "source": [
    "model = lm.Perceptron(max_iter = 1000, tol = None)\n",
    "\n",
    "model.fit(X_train, y_train)\n",
    "\n",
    "print('accuracy {:.3f}'.format(model.score(X_test, y_test)))"
   ]
  },
  {
   "cell_type": "markdown",
   "metadata": {
    "collapsed": true
   },
   "source": [
    "## LMS algorithm \n",
    "(stochastic gradient descent on 1 batch size with mean square loss)"
   ]
  },
  {
   "cell_type": "code",
   "execution_count": 19,
   "metadata": {},
   "outputs": [
    {
     "name": "stdout",
     "output_type": "stream",
     "text": [
      "accuracy 0.901\n"
     ]
    }
   ],
   "source": [
    "model = lm.SGDClassifier(loss='squared_loss', max_iter=2000, tol=None, learning_rate='constant', eta0=1e-3)\n",
    "\n",
    "model.fit(X_train, y_train)\n",
    "\n",
    "print('accuracy {:.3f}'.format(model.score(X_test, y_test)))"
   ]
  }
 ],
 "metadata": {
  "kernelspec": {
   "display_name": "Python 3",
   "language": "python",
   "name": "python3"
  },
  "language_info": {
   "codemirror_mode": {
    "name": "ipython",
    "version": 3
   },
   "file_extension": ".py",
   "mimetype": "text/x-python",
   "name": "python",
   "nbconvert_exporter": "python",
   "pygments_lexer": "ipython3",
   "version": "3.6.3"
  }
 },
 "nbformat": 4,
 "nbformat_minor": 2
}
