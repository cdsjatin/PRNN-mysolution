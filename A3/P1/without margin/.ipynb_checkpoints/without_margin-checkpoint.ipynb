{
 "cells": [
  {
   "cell_type": "code",
   "execution_count": 2,
   "metadata": {
    "collapsed": true
   },
   "outputs": [],
   "source": [
    "import numpy as np\n",
    "import pandas as pd\n",
    "from scipy.stats import norm\n",
    "import matplotlib.pyplot as plt\n",
    "\n",
    "%matplotlib inline\n",
    "plt.rcParams['figure.figsize'] = (7,4)"
   ]
  },
  {
   "cell_type": "markdown",
   "metadata": {},
   "source": [
    "### Description about Dataset\n",
    "100 points were sampled from [-1 1]^10 cuboid.\n",
    "The hyperplane with parameters \n",
    "\n",
    "w=[1 -1 1 -1 1 -1 1 -1 1 -1 ]'  b=0;\n",
    "\n",
    "is used to divide the samples into two classes.\n",
    "\n",
    "There are few points which are arbitrarily very close to the separating hyperplane.\n",
    "\n",
    "\n"
   ]
  },
  {
   "cell_type": "code",
   "execution_count": 3,
   "metadata": {},
   "outputs": [
    {
     "name": "stdout",
     "output_type": "stream",
     "text": [
      "(101, 10)\n",
      "(101,)\n"
     ]
    },
    {
     "data": {
      "text/plain": [
       "<matplotlib.legend.Legend at 0x7fa37cc5a8d0>"
      ]
     },
     "execution_count": 3,
     "metadata": {},
     "output_type": "execute_result"
    },
    {
     "data": {
      "image/png": "[encoded data removed]",
      "text/plain": [
       "<matplotlib.figure.Figure at 0x7fa37cc5a860>"
      ]
     },
     "metadata": {},
     "output_type": "display_data"
    }
   ],
   "source": [
    "## Question\n",
    "train = pd.read_csv('./P1b_training_data',skiprows=0, header=None)\n",
    "#print(train.head)\n",
    "\n",
    "X_train = train.values[:,0:-1]\n",
    "y_train = train.values[:,-1]\n",
    "print(X_train.shape)\n",
    "print(y_train.shape)\n",
    "\n",
    "N = len(X_train)\n",
    "d = X_train.shape[1] \n",
    "\n",
    "mu = np.average(X_train)\n",
    "var = np.var(X_train)\n",
    "sig = np.sqrt(var)\n",
    "\n",
    "plt.figure\n",
    "plt.hist(X_train)\n",
    "plt.legend(range(d))"
   ]
  },
  {
   "cell_type": "markdown",
   "metadata": {
    "collapsed": true
   },
   "source": [
    "### Problem Statement\n",
    "\n",
    "P1. This gives 10-dimensional data that is linearly separable. There are two cases: one in which it is ensured that all data is a minimum distance away from the separating hyperplane and the second case where this is not done. <br/>\n",
    "You have to learn a separating hyperplane using Perceptron, LMS algorithm and using the standard formula (that uses generalized inverse). In each case vary training set sizes and any other parameters that you think should be varied (e.g., step-size in LMS, starting point in Perceptron). In all cases find accuracies on test set. What you need to submit, as earlier, is a summary of your results and a discussion of the results. "
   ]
  },
  {
   "cell_type": "markdown",
   "metadata": {},
   "source": [
    "## Perceptron\n",
    "\n",
    "vary starting point"
   ]
  },
  {
   "cell_type": "markdown",
   "metadata": {},
   "source": [
    "## LMS algorithm\n",
    "\n",
    "vary step size"
   ]
  },
  {
   "cell_type": "markdown",
   "metadata": {},
   "source": [
    "## Generalized Inverse\n",
    "\n",
    "In all find accuracies"
   ]
  },
  {
   "cell_type": "code",
   "execution_count": null,
   "metadata": {
    "collapsed": true
   },
   "outputs": [],
   "source": []
  }
 ],
 "metadata": {
  "kernelspec": {
   "display_name": "Python 3",
   "language": "python",
   "name": "python3"
  },
  "language_info": {
   "codemirror_mode": {
    "name": "ipython",
    "version": 3
   },
   "file_extension": ".py",
   "mimetype": "text/x-python",
   "name": "python",
   "nbconvert_exporter": "python",
   "pygments_lexer": "ipython3",
   "version": "3.6.3"
  }
 },
 "nbformat": 4,
 "nbformat_minor": 2
}
