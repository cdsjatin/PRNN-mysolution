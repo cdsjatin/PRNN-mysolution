{
 "cells": [
  {
   "cell_type": "code",
   "execution_count": 43,
   "metadata": {
    "collapsed": true
   },
   "outputs": [],
   "source": [
    "import numpy as np\n",
    "import pandas as pd\n",
    "from scipy.stats import norm\n",
    "import matplotlib.pyplot as plt\n",
    "import scipy as sp\n",
    "%matplotlib inline \n",
    "# to tell jupyter notebook\n",
    "plt.rcParams['figure.figsize'] = (7,4)\n"
   ]
  },
  {
   "cell_type": "code",
   "execution_count": 2,
   "metadata": {},
   "outputs": [
    {
     "name": "stdout",
     "output_type": "stream",
     "text": [
      "0.84262,-0.011984,1\r\n",
      "1.2384,0.60358,1\r\n",
      "0.12557,0.4647,1\r\n",
      "1.4461,-0.67625,1\r\n",
      "-1.1443,0.024392,1\r\n",
      "-1.0499,-1.5831,1\r\n",
      "0.57729,-1.0665,1\r\n",
      "-1.9128,-0.31504,1\r\n",
      "0.44923,0.31159,1\r\n",
      "1.4943,0.88054,1\r\n"
     ]
    }
   ],
   "source": [
    "! head P2_training_data # to tell linux"
   ]
  },
  {
   "cell_type": "markdown",
   "metadata": {},
   "source": [
    "## Data Description\n",
    "\n",
    "The dataset contains 2-d samples generated from \n",
    "\n",
    "mu_1 = [0 0]' <br/>\n",
    "mu_2 = [3 3]' <br/>\n",
    "sigma= [4 0; 0 4]; <br/>\n",
    "p(x|y=1)=Gaussian(mu_1,sigma) <br/>\n",
    "p(x|y=-1)=Gaussian(mu_2,sigma)\n",
    "\n",
    "\n"
   ]
  },
  {
   "cell_type": "code",
   "execution_count": 3,
   "metadata": {},
   "outputs": [
    {
     "name": "stdout",
     "output_type": "stream",
     "text": [
      "         0         1  2\n",
      "0  0.84262 -0.011984  1\n",
      "1  1.23840  0.603580  1\n",
      "2  0.12557  0.464700  1\n",
      "3  1.44610 -0.676250  1\n",
      "4 -1.14430  0.024392  1\n",
      "(100, 2) (100,)\n",
      "[ 1.8156911  1.3390953]\n",
      "[ 4.27228887  3.33266371]\n"
     ]
    },
    {
     "data": {
      "text/plain": [
       "<matplotlib.legend.Legend at 0x7fe33ac1c400>"
      ]
     },
     "execution_count": 3,
     "metadata": {},
     "output_type": "execute_result"
    },
    {
     "data": {
      "image/png": "[encoded data removed]",
      "text/plain": [
       "<matplotlib.figure.Figure at 0x7fe33ac1c438>"
      ]
     },
     "metadata": {},
     "output_type": "display_data"
    }
   ],
   "source": [
    "## Question\n",
    "train = pd.read_csv('./P2_training_data',skiprows=0, header=None)\n",
    "print(train.head())\n",
    "\n",
    "X_train = train.values[:,0:-1]\n",
    "y_train = train.values[:,-1]\n",
    "print(X_train.shape, y_train.shape)\n",
    "\n",
    "N = len(X_train)\n",
    "d = X_train.shape[1] \n",
    "\n",
    "mu = np.average(X_train, axis = 0)\n",
    "print(mu)\n",
    "var = np.var(X_train, axis=0)\n",
    "print(var)\n",
    "sig = np.sqrt(var)\n",
    "\n",
    "plt.style.use('seaborn')\n",
    "train.plot.hist()\n",
    "plt.hist(X_train)\n",
    "plt.legend(range(d))"
   ]
  },
  {
   "cell_type": "markdown",
   "metadata": {
    "collapsed": true
   },
   "source": [
    "## Problem Statement"
   ]
  },
  {
   "cell_type": "markdown",
   "metadata": {},
   "source": [
    "P2.  and P3.:  Here data is generated from Gaussian class conditional densities. In one case it is 2D and in the other case it is 10D. <br/> You have to explore learning a linear classifier using LMS algorithm and logistic regression. Also learn a classifier using fisher linear discriminant. Vary training set sizes and any other hyperparameters. What you need to submit is a report of all results and discussion."
   ]
  },
  {
   "cell_type": "markdown",
   "metadata": {},
   "source": [
    "## Linear Classifier LMS algorithm"
   ]
  },
  {
   "cell_type": "code",
   "execution_count": 4,
   "metadata": {
    "collapsed": true
   },
   "outputs": [],
   "source": [
    "def lms_accuracy(X, y , W):\n",
    "    N = X.shape[0]\n",
    "    X = np.column_stack( (X, np.ones(shape=(N,)) ))\n",
    "    \n",
    "    # Calculating accuracy\n",
    "    # Works both for (1,-1) and (1,0)\n",
    "    y_mask = X.dot(W) > 0     \n",
    "    y_ = y > 0\n",
    "    \n",
    "    return(np.sum(y_ == y_mask.squeeze()) /N) \n",
    "    #print('accuracy = {:.3f}'.format(np.sum(y_ == y_mask.squeeze()) /N))\n",
    " "
   ]
  },
  {
   "cell_type": "code",
   "execution_count": 5,
   "metadata": {},
   "outputs": [
    {
     "name": "stdout",
     "output_type": "stream",
     "text": [
      "0.95\n"
     ]
    },
    {
     "data": {
      "text/plain": [
       "Text(0.5,0,'epochs')"
      ]
     },
     "execution_count": 5,
     "metadata": {},
     "output_type": "execute_result"
    },
    {
     "data": {
      "image/png": "[encoded data removed]",
      "text/plain": [
       "<matplotlib.figure.Figure at 0x7fe33380eeb8>"
      ]
     },
     "metadata": {},
     "output_type": "display_data"
    }
   ],
   "source": [
    "# initializes weight\n",
    "W = np.random.randn(d + 1, 1)\n",
    "#print(W.shape)\n",
    "lr = 1e-4\n",
    "\n",
    "X_ = np.column_stack( (X_train, np.ones(shape=(N,)) ))\n",
    "#print(X_.shape)\n",
    "acc = []\n",
    "for epoch in range(1000):\n",
    "    for i in range(N):\n",
    "        x = X_[i,:][:,np.newaxis].T\n",
    "        #x = x[:,np.newaxis].T\n",
    "        er = x.dot(W) - y_train[i]\n",
    "        W = W - lr*(x.T.dot(er))\n",
    "    acc.append(lms_accuracy(X_train, y_train, W))\n",
    "    \n",
    "print(acc[-1])\n",
    "plt.plot(acc)\n",
    "plt.ylabel('Accuracy')\n",
    "plt.xlabel('epochs')"
   ]
  },
  {
   "cell_type": "code",
   "execution_count": 6,
   "metadata": {},
   "outputs": [
    {
     "ename": "NameError",
     "evalue": "name 'X_test' is not defined",
     "output_type": "error",
     "traceback": [
      "\u001b[0;31m---------------------------------------------------------------------------\u001b[0m",
      "\u001b[0;31mNameError\u001b[0m                                 Traceback (most recent call last)",
      "\u001b[0;32m<ipython-input-6-531fba2309df>\u001b[0m in \u001b[0;36m<module>\u001b[0;34m()\u001b[0m\n\u001b[0;32m----> 1\u001b[0;31m \u001b[0mprint\u001b[0m\u001b[0;34m(\u001b[0m\u001b[0;34m'test accuracy {:.3f}'\u001b[0m\u001b[0;34m.\u001b[0m\u001b[0mformat\u001b[0m\u001b[0;34m(\u001b[0m\u001b[0mlms_accuracy\u001b[0m\u001b[0;34m(\u001b[0m\u001b[0mX_test\u001b[0m\u001b[0;34m,\u001b[0m \u001b[0my_test\u001b[0m\u001b[0;34m,\u001b[0m \u001b[0mW\u001b[0m\u001b[0;34m)\u001b[0m\u001b[0;34m)\u001b[0m\u001b[0;34m)\u001b[0m\u001b[0;34m\u001b[0m\u001b[0m\n\u001b[0m",
      "\u001b[0;31mNameError\u001b[0m: name 'X_test' is not defined"
     ]
    }
   ],
   "source": [
    "print('test accuracy {:.3f}'.format(lms_accuracy(X_test, y_test, W)))"
   ]
  },
  {
   "cell_type": "markdown",
   "metadata": {},
   "source": [
    "## Logistic Regression"
   ]
  },
  {
   "cell_type": "code",
   "execution_count": null,
   "metadata": {},
   "outputs": [],
   "source": [
    "\n",
    "print(y_new)\n",
    "print(X_train.shape)\n",
    "\n",
    "# seed 0 , 1, 2 ... gives very very bad accuracies\n",
    "# DON'T KNOW WHY\n",
    "\n",
    "W = W = np.random.randn(d + 1, )\n",
    "X_ = np.column_stack( (X_train, np.ones(shape=(N,)) ))\n",
    "y_ = (y_train + 1)/2\n",
    "lr = 1e-4\n",
    "\n",
    "print(X_.shape)\n",
    "\n",
    "acc = []\n",
    "\n",
    "for epoch in range(1000):\n",
    "    for i in range(X_.shape[0]):\n",
    "        \n",
    "        x = X_[i,:]\n",
    "        y = y_[i]\n",
    "        \n",
    "        o = np.exp(W.dot(x))\n",
    "        sig = o / (1 + o)\n",
    "        \n",
    "        err = sig * (1 - sig) * (sig - y)\n",
    "        \n",
    "        W -= lr * (err * x)\n",
    "        \n",
    "    acc.append(lms_accuracy(X_train, y_, W))\n",
    "    \n",
    "print(acc[-1])\n",
    "plt.plot(acc)\n",
    "plt.ylabel('Accuracy')\n",
    "plt.xlabel('epochs')"
   ]
  },
  {
   "cell_type": "code",
   "execution_count": null,
   "metadata": {},
   "outputs": [],
   "source": [
    "y_test_ = (y_test + 1)/2\n",
    "\n",
    "print('test accuracy {:.3f}'.format(lms_accuracy(X_test, y_test_, W)))"
   ]
  },
  {
   "cell_type": "markdown",
   "metadata": {},
   "source": [
    "\n",
    "## Fisher Linear Discriminant\n",
    "vary training set size and other parameters"
   ]
  },
  {
   "cell_type": "code",
   "execution_count": 50,
   "metadata": {},
   "outputs": [
    {
     "name": "stdout",
     "output_type": "stream",
     "text": [
      "[ 3.3715152  2.6241177] [ 0.25986701  0.0540729 ]\n",
      "[[ 1153.40547276   791.84364698]\n",
      " [  791.84364698   828.65114156]]\n",
      "[ 0.25986701  0.0540729 ] [ 3.3715152  2.6241177]\n",
      "[-0.0016529 -0.001522 ]\n"
     ]
    }
   ],
   "source": [
    "W = W = np.random.randn(d, )\n",
    "n0 = 0\n",
    "n1 = 0\n",
    "M0 = np.zeros(d,)\n",
    "M1 = np.zeros(d,)\n",
    "\n",
    "M0 = np.average(X_train[y_train < 0, :], axis = 0)\n",
    "M1 = np.average(X_train[y_train > 0, :], axis = 0)\n",
    "\n",
    "Sw = np.zeros((d,d))\n",
    "\n",
    "for i in range(X_train.shape[0]):\n",
    "    if y_train[i] > 0:\n",
    "        x = X_train[i,:] - M0\n",
    "        x = x[:,np.newaxis]\n",
    "        Sw += x.dot(x.T)\n",
    "    else:\n",
    "        x = X_train[i,:] - M1 \n",
    "        x = x[:,np.newaxis]\n",
    "        Sw += x.dot(x.T)\n",
    "        \n",
    "print(Sw)\n",
    "W = np.linalg.inv(Sw).dot(M1 - M0)\n",
    "print(M1, M0)\n",
    "print(W)"
   ]
  },
  {
   "cell_type": "code",
   "execution_count": 65,
   "metadata": {},
   "outputs": [
    {
     "name": "stdout",
     "output_type": "stream",
     "text": [
      "-0.00503925632068\n",
      "train accuracy:  0.95\n",
      "test accuracy:  0.91\n"
     ]
    },
    {
     "data": {
      "image/png": "[encoded data removed]",
      "text/plain": [
       "<matplotlib.figure.Figure at 0x7fe332589198>"
      ]
     },
     "metadata": {},
     "output_type": "display_data"
    }
   ],
   "source": [
    "data = X_train.dot(W)\n",
    "plt.hist(data)\n",
    "\n",
    "## Using bayes classifier and normal distribution \n",
    "## the threshold is the mean of the average\n",
    "b = (np.average(data[y_train > 0]) + np.average(data[y_train < 0]))/2\n",
    "## Considering when variance is same for both\n",
    "\n",
    "print(b)\n",
    "\n",
    "## Classifier is:\n",
    "\n",
    "accuracy = np.average(np.sign(data - b) == y_train)\n",
    "print('train accuracy: ',accuracy)\n",
    "\n",
    "test_accuracy = np.average(np.sign(X_test.dot(W) - b) == y_test)\n",
    "print('test accuracy: ',test_accuracy)\n"
   ]
  },
  {
   "cell_type": "markdown",
   "metadata": {},
   "source": [
    "<hr>"
   ]
  },
  {
   "cell_type": "markdown",
   "metadata": {},
   "source": [
    "# Testing"
   ]
  },
  {
   "cell_type": "code",
   "execution_count": 60,
   "metadata": {
    "scrolled": true
   },
   "outputs": [
    {
     "name": "stdout",
     "output_type": "stream",
     "text": [
      "(100, 2)\n",
      "(100,)\n"
     ]
    },
    {
     "data": {
      "text/plain": [
       "<matplotlib.legend.Legend at 0x7fe3324bba58>"
      ]
     },
     "execution_count": 60,
     "metadata": {},
     "output_type": "execute_result"
    },
    {
     "data": {
      "image/png": "[encoded data removed]",
      "text/plain": [
       "<matplotlib.figure.Figure at 0x7fe3324f9160>"
      ]
     },
     "metadata": {},
     "output_type": "display_data"
    }
   ],
   "source": [
    "## Question\n",
    "test = pd.read_csv('./P2_test_data',skiprows=0, header=None)\n",
    "#print(train.head)\n",
    "\n",
    "X_test = test.values[:,0:-1]\n",
    "y_test = test.values[:,-1]\n",
    "print(X_test.shape)\n",
    "print(y_test.shape)\n",
    "\n",
    "N_test = len(X_test)\n",
    "d = X_test.shape[1] \n",
    "\n",
    "mu = np.average(X_test)\n",
    "var = np.var(X_test)\n",
    "sig = np.sqrt(var)\n",
    "\n",
    "plt.figure\n",
    "plt.hist(X_test)\n",
    "plt.legend(range(d))"
   ]
  },
  {
   "cell_type": "markdown",
   "metadata": {
    "collapsed": true
   },
   "source": [
    "# Sk learn"
   ]
  },
  {
   "cell_type": "markdown",
   "metadata": {},
   "source": [
    "## logistic Regression"
   ]
  },
  {
   "cell_type": "code",
   "execution_count": 67,
   "metadata": {},
   "outputs": [
    {
     "name": "stdout",
     "output_type": "stream",
     "text": [
      "0.96\n",
      "0.93\n"
     ]
    }
   ],
   "source": [
    "from sklearn.linear_model import LogisticRegression\n",
    "\n",
    "clf = LogisticRegression(tol=1e-4, penalty='l2', solver ='liblinear', max_iter = 1000)\n",
    "\n",
    "clf.fit(X_train,y_train)\n",
    "\n",
    "print(clf.score(X_train, y_train))\n",
    "print(clf.score(X_test, y_test))"
   ]
  },
  {
   "cell_type": "markdown",
   "metadata": {},
   "source": [
    "## Linear Discriminant Analysis"
   ]
  },
  {
   "cell_type": "code",
   "execution_count": 69,
   "metadata": {},
   "outputs": [
    {
     "name": "stdout",
     "output_type": "stream",
     "text": [
      "0.95\n",
      "0.91\n"
     ]
    }
   ],
   "source": [
    "from sklearn.discriminant_analysis import LinearDiscriminantAnalysis\n",
    "\n",
    "\n",
    "clf = LinearDiscriminantAnalysis(solver='svd',tol=1e-4)\n",
    "\n",
    "clf.fit(X_train, y_train)\n",
    "\n",
    "print(clf.score(X_train, y_train))\n",
    "print(clf.score(X_test, y_test))"
   ]
  }
 ],
 "metadata": {
  "kernelspec": {
   "display_name": "Python 3",
   "language": "python",
   "name": "python3"
  },
  "language_info": {
   "codemirror_mode": {
    "name": "ipython",
    "version": 3
   },
   "file_extension": ".py",
   "mimetype": "text/x-python",
   "name": "python",
   "nbconvert_exporter": "python",
   "pygments_lexer": "ipython3",
   "version": "3.6.3"
  }
 },
 "nbformat": 4,
 "nbformat_minor": 2
}
