{
 "cells": [
  {
   "cell_type": "code",
   "execution_count": 4,
   "metadata": {
    "collapsed": true
   },
   "outputs": [],
   "source": [
    "import numpy as np\n",
    "import pandas as pd\n",
    "from scipy.stats import norm\n",
    "import matplotlib.pyplot as plt\n",
    "\n",
    "%matplotlib inline\n",
    "plt.rcParams['figure.figsize'] = (7,4)"
   ]
  },
  {
   "cell_type": "markdown",
   "metadata": {},
   "source": [
    "## Data Description\n",
    "\n",
    "The dataset contains 2-d samples generated from \n",
    "\n",
    "mu_1 = [0 0]' <br/>\n",
    "mu_2 = [3 3]' <br/>\n",
    "sigma= [4 0; 0 4]; <br/>\n",
    "p(x|y=1)=Gaussian(mu_1,sigma) <br/>\n",
    "p(x|y=-1)=Gaussian(mu_2,sigma)\n",
    "\n",
    "\n"
   ]
  },
  {
   "cell_type": "code",
   "execution_count": 11,
   "metadata": {},
   "outputs": [
    {
     "name": "stdout",
     "output_type": "stream",
     "text": [
      "(100, 2) (100,)\n",
      "[ 1.8156911  1.3390953]\n",
      "[ 4.27228887  3.33266371]\n"
     ]
    },
    {
     "data": {
      "text/plain": [
       "<matplotlib.legend.Legend at 0x7f79657830b8>"
      ]
     },
     "execution_count": 11,
     "metadata": {},
     "output_type": "execute_result"
    },
    {
     "data": {
      "image/png": "[encoded data removed]",
      "text/plain": [
       "<matplotlib.figure.Figure at 0x7f7965783a90>"
      ]
     },
     "metadata": {},
     "output_type": "display_data"
    }
   ],
   "source": [
    "## Question\n",
    "train = pd.read_csv('./P2_training_data',skiprows=0, header=None)\n",
    "#print(train.head)\n",
    "\n",
    "X_train = train.values[:,0:-1]\n",
    "y_train = train.values[:,-1]\n",
    "print(X_train.shape, y_train.shape)\n",
    "\n",
    "N = len(X_train)\n",
    "d = X_train.shape[1] \n",
    "\n",
    "mu = np.average(X_train, axis = 0)\n",
    "print(mu)\n",
    "var = np.var(X_train, axis=0)\n",
    "print(var)\n",
    "sig = np.sqrt(var)\n",
    "\n",
    "plt.figure\n",
    "plt.hist(X_train)\n",
    "plt.legend(range(d))"
   ]
  },
  {
   "cell_type": "markdown",
   "metadata": {
    "collapsed": true
   },
   "source": [
    "## Problem Statement"
   ]
  },
  {
   "cell_type": "markdown",
   "metadata": {},
   "source": [
    "P2.  and P3.:  Here data is generated from Gaussian class conditional densities. In one case it is 2D and in the other case it is 10D. <br/> You have to explore learning a linear classifier using LMS algorithm and logistic regression. Also learn a classifier using fisher linear discriminant. Vary training set sizes and any other hyperparameters. What you need to submit is a report of all results and discussion."
   ]
  },
  {
   "cell_type": "markdown",
   "metadata": {
    "heading_collapsed": true
   },
   "source": [
    "## Linear Classifier LMS algorithm"
   ]
  },
  {
   "cell_type": "markdown",
   "metadata": {
    "heading_collapsed": true
   },
   "source": [
    "## Logistic Regression"
   ]
  },
  {
   "cell_type": "markdown",
   "metadata": {},
   "source": [
    "## Fisher Linear Discriminant\n",
    "vary training set size and other parameters"
   ]
  },
  {
   "cell_type": "markdown",
   "metadata": {},
   "source": [
    "<hr>"
   ]
  },
  {
   "cell_type": "markdown",
   "metadata": {},
   "source": [
    "# Testing"
   ]
  },
  {
   "cell_type": "code",
   "execution_count": 14,
   "metadata": {},
   "outputs": [
    {
     "name": "stdout",
     "output_type": "stream",
     "text": [
      "(100, 2) (100,)\n",
      "[ 1.56393016  1.44686249]\n",
      "[ 4.78422904  5.33035135]\n"
     ]
    },
    {
     "data": {
      "text/plain": [
       "<matplotlib.legend.Legend at 0x7f796563c710>"
      ]
     },
     "execution_count": 14,
     "metadata": {},
     "output_type": "execute_result"
    },
    {
     "data": {
      "image/png": "[encoded data removed]",
      "text/plain": [
       "<matplotlib.figure.Figure at 0x7f796563c6a0>"
      ]
     },
     "metadata": {},
     "output_type": "display_data"
    }
   ],
   "source": [
    "## Question\n",
    "train = pd.read_csv('./P2_test_data',skiprows=0, header=None)\n",
    "#print(train.head)\n",
    "\n",
    "X_train = train.values[:,0:-1]\n",
    "y_train = train.values[:,-1]\n",
    "print(X_train.shape, y_train.shape)\n",
    "\n",
    "N = len(X_train)\n",
    "d = X_train.shape[1] \n",
    "\n",
    "mu = np.average(X_train, axis = 0)\n",
    "print(mu)\n",
    "var = np.var(X_train, axis=0)\n",
    "print(var)\n",
    "sig = np.sqrt(var)\n",
    "\n",
    "plt.figure\n",
    "plt.hist(X_train)\n",
    "plt.legend(range(d))"
   ]
  },
  {
   "cell_type": "code",
   "execution_count": null,
   "metadata": {
    "collapsed": true
   },
   "outputs": [],
   "source": []
  }
 ],
 "metadata": {
  "kernelspec": {
   "display_name": "Python 3",
   "language": "python",
   "name": "python3"
  },
  "language_info": {
   "codemirror_mode": {
    "name": "ipython",
    "version": 3
   },
   "file_extension": ".py",
   "mimetype": "text/x-python",
   "name": "python",
   "nbconvert_exporter": "python",
   "pygments_lexer": "ipython3",
   "version": "3.6.3"
  }
 },
 "nbformat": 4,
 "nbformat_minor": 2
}
