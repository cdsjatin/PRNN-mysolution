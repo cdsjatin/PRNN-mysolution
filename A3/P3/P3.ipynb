{
 "cells": [
  {
   "cell_type": "code",
   "execution_count": 1,
   "metadata": {
    "collapsed": true
   },
   "outputs": [],
   "source": [
    "import numpy as np\n",
    "import pandas as pd\n",
    "from scipy.stats import norm\n",
    "import matplotlib.pyplot as plt\n",
    "#import scipy as sp\n",
    "%matplotlib inline \n",
    "# to tell jupyter notebook\n",
    "plt.rcParams['figure.figsize'] = (7,4)\n"
   ]
  },
  {
   "cell_type": "code",
   "execution_count": 3,
   "metadata": {},
   "outputs": [
    {
     "name": "stdout",
     "output_type": "stream",
     "text": [
      "-1.3160,-0.62479,1.0818,1.5729,0.88185,-0.1234,0.43043,-1.1084,2.9889,0.035194,1\r\n",
      "-0.77525,0.88267,-0.20861,1.1112,-0.65709,1.9916,1.2051,0.66908,-0.12104,-2.7346,1\r\n",
      "-2.2775,0.052791,-1.8888,-4.2599,-0.44523,-2.0038,0.26508,0.08836,-1.3292,-1.9644,1\r\n",
      "-1.4781,1.1491,0.12107,1.8742,1.0412,2.35,1.4558,1.7718,2.3006,-3.2459,1\r\n",
      "-0.75993,-0.85008,-2.2927,-0.92024,-1.7776,0.96841,-1.4411,-3.3467,1.4429,-1.2892,1\r\n",
      "-2.3351,-3.1986,-1.6225,-0.63923,-3.3595,-1.7694,-1.1246,1.2874,-2.0602,-2.1998,1\r\n",
      "-0.16711,3.4929,0.031754,-0.39835,0.71612,0.92441,2.0324,0.9412,2.418,0.84021,1\r\n",
      "1.1281,1.4865,0.51543,3.039,2.6175,0.35396,2.7287,2.5635,-0.1021,3.0705,1\r\n",
      "-2.4846,-1.0009,-1.7199,-1.126,-1.8551,-2.0463,0.072687,-0.99739,-0.060612,0.11972,1\r\n",
      "2.1463,-0.21499,-0.54312,0.8143,0.87458,2.7903,1.4112,1.0891,1.0621,-0.63129,1\r\n"
     ]
    }
   ],
   "source": [
    "! head P3_training_data # to tell linux"
   ]
  },
  {
   "cell_type": "markdown",
   "metadata": {},
   "source": [
    "## Data Description\n",
    "\n",
    "The dataset contains 2-d samples generated from \n",
    "\n",
    "mu_1 = [0 0]' <br/>\n",
    "mu_2 = [3 3]' <br/>\n",
    "sigma= [4 0; 0 4]; <br/>\n",
    "p(x|y=1)=Gaussian(mu_1,sigma) <br/>\n",
    "p(x|y=-1)=Gaussian(mu_2,sigma)\n",
    "\n",
    "\n"
   ]
  },
  {
   "cell_type": "code",
   "execution_count": 5,
   "metadata": {},
   "outputs": [
    {
     "name": "stdout",
     "output_type": "stream",
     "text": [
      "        0         1        2        3        4        5        6        7   \\\n",
      "0 -1.31600 -0.624790  1.08180  1.57290  0.88185 -0.12340  0.43043 -1.10840   \n",
      "1 -0.77525  0.882670 -0.20861  1.11120 -0.65709  1.99160  1.20510  0.66908   \n",
      "2 -2.27750  0.052791 -1.88880 -4.25990 -0.44523 -2.00380  0.26508  0.08836   \n",
      "3 -1.47810  1.149100  0.12107  1.87420  1.04120  2.35000  1.45580  1.77180   \n",
      "4 -0.75993 -0.850080 -2.29270 -0.92024 -1.77760  0.96841 -1.44110 -3.34670   \n",
      "\n",
      "        8         9   10  \n",
      "0  2.98890  0.035194   1  \n",
      "1 -0.12104 -2.734600   1  \n",
      "2 -1.32920 -1.964400   1  \n",
      "3  2.30060 -3.245900   1  \n",
      "4  1.44290 -1.289200   1  \n",
      "(100, 10) (100,)\n",
      "[ 0.8170705   1.33905789  1.03703746  0.97667134  0.98350563  1.15258815\n",
      "  1.14405219  1.18579346  1.27249734  0.84310677]\n",
      "[ 3.86355072  3.38080652  3.4160442   4.93471363  4.12510687  3.20475738\n",
      "  3.84121817  4.17348824  3.61932816  4.4793473 ]\n"
     ]
    },
    {
     "data": {
      "text/plain": [
       "<matplotlib.legend.Legend at 0x7f1c732b5ba8>"
      ]
     },
     "execution_count": 5,
     "metadata": {},
     "output_type": "execute_result"
    },
    {
     "data": {
      "image/png": "[encoded data removed]",
      "text/plain": [
       "<matplotlib.figure.Figure at 0x7f1c732b5cc0>"
      ]
     },
     "metadata": {},
     "output_type": "display_data"
    }
   ],
   "source": [
    "## Question\n",
    "train = pd.read_csv('./P3_training_data',skiprows=0, header=None)\n",
    "print(train.head())\n",
    "\n",
    "X_train = train.values[:,0:-1]\n",
    "y_train = train.values[:,-1]\n",
    "print(X_train.shape, y_train.shape)\n",
    "\n",
    "N = len(X_train)\n",
    "d = X_train.shape[1] \n",
    "\n",
    "mu = np.average(X_train, axis = 0)\n",
    "print(mu)\n",
    "var = np.var(X_train, axis=0)\n",
    "print(var)\n",
    "sig = np.sqrt(var)\n",
    "\n",
    "plt.style.use('seaborn')\n",
    "train.plot.hist()\n",
    "plt.hist(X_train)\n",
    "plt.legend(range(d))"
   ]
  },
  {
   "cell_type": "markdown",
   "metadata": {
    "collapsed": true
   },
   "source": [
    "## Problem Statement"
   ]
  },
  {
   "cell_type": "markdown",
   "metadata": {},
   "source": [
    "P2.  and P3.:  Here data is generated from Gaussian class conditional densities. In one case it is 2D and in the other case it is 10D. <br/> You have to explore learning a linear classifier using LMS algorithm and logistic regression. Also learn a classifier using fisher linear discriminant. Vary training set sizes and any other hyperparameters. What you need to submit is a report of all results and discussion."
   ]
  },
  {
   "cell_type": "markdown",
   "metadata": {},
   "source": [
    "## Linear Classifier LMS algorithm"
   ]
  },
  {
   "cell_type": "code",
   "execution_count": 10,
   "metadata": {
    "collapsed": true
   },
   "outputs": [],
   "source": [
    "def lms_accuracy(X, y , W):\n",
    "    N = X.shape[0]\n",
    "    X = np.column_stack( (X, np.ones(shape=(N,)) ))\n",
    "    \n",
    "    # Calculating accuracy\n",
    "    # Works both for (1,-1) and (1,0)\n",
    "    y_mask = X.dot(W) > 0     \n",
    "    y_ = y > 0\n",
    "    \n",
    "    return(np.sum(y_ == y_mask.squeeze()) /N) \n",
    "    #print('accuracy = {:.3f}'.format(np.sum(y_ == y_mask.squeeze()) /N))\n",
    " "
   ]
  },
  {
   "cell_type": "code",
   "execution_count": 11,
   "metadata": {},
   "outputs": [
    {
     "name": "stdout",
     "output_type": "stream",
     "text": [
      "0.85\n"
     ]
    },
    {
     "data": {
      "text/plain": [
       "Text(0.5,0,'epochs')"
      ]
     },
     "execution_count": 11,
     "metadata": {},
     "output_type": "execute_result"
    },
    {
     "data": {
      "image/png": "[encoded data removed]",
      "text/plain": [
       "<matplotlib.figure.Figure at 0x7f1c6c3f8c18>"
      ]
     },
     "metadata": {},
     "output_type": "display_data"
    }
   ],
   "source": [
    "# initializes weight\n",
    "W = np.random.randn(d + 1, 1)\n",
    "#print(W.shape)\n",
    "lr = 1e-4\n",
    "\n",
    "X_ = np.column_stack( (X_train, np.ones(shape=(N,)) ))\n",
    "#print(X_.shape)\n",
    "acc = []\n",
    "for epoch in range(1000):\n",
    "    for i in range(N):\n",
    "        x = X_[i,:][:,np.newaxis].T\n",
    "        #x = x[:,np.newaxis].T\n",
    "        er = x.dot(W) - y_train[i]\n",
    "        W = W - lr*(x.T.dot(er))\n",
    "    acc.append(lms_accuracy(X_train, y_train, W))\n",
    "    \n",
    "print(acc[-1])\n",
    "plt.plot(acc)\n",
    "plt.ylabel('Accuracy')\n",
    "plt.xlabel('epochs')"
   ]
  },
  {
   "cell_type": "code",
   "execution_count": 12,
   "metadata": {},
   "outputs": [
    {
     "name": "stdout",
     "output_type": "stream",
     "text": [
      "test accuracy 0.770\n"
     ]
    }
   ],
   "source": [
    "print('test accuracy {:.3f}'.format(lms_accuracy(X_test, y_test, W)))"
   ]
  },
  {
   "cell_type": "markdown",
   "metadata": {},
   "source": [
    "## Logistic Regression"
   ]
  },
  {
   "cell_type": "code",
   "execution_count": 44,
   "metadata": {},
   "outputs": [
    {
     "name": "stdout",
     "output_type": "stream",
     "text": [
      "(100, 10)\n",
      "(100, 11)\n",
      "0.71\n"
     ]
    },
    {
     "data": {
      "text/plain": [
       "Text(0.5,0,'epochs')"
      ]
     },
     "execution_count": 44,
     "metadata": {},
     "output_type": "execute_result"
    },
    {
     "data": {
      "image/png": "[encoded data removed]",
      "text/plain": [
       "<matplotlib.figure.Figure at 0x7f1c5bf316d8>"
      ]
     },
     "metadata": {},
     "output_type": "display_data"
    }
   ],
   "source": [
    "\n",
    "print(X_train.shape)\n",
    "\n",
    "# seed 0 , 1, 2 ... gives very very bad accuracies\n",
    "# DON'T KNOW WHY\n",
    "\n",
    "W = W = np.random.randn(d + 1, )\n",
    "X_ = np.column_stack( (X_train, np.ones(shape=(N,)) ))\n",
    "y_ = (y_train + 1)/2\n",
    "lr = 1e-4\n",
    "\n",
    "print(X_.shape)\n",
    "\n",
    "acc = []\n",
    "\n",
    "for epoch in range(1000):\n",
    "    for i in range(X_.shape[0]):\n",
    "        \n",
    "        x = X_[i,:]\n",
    "        y = y_[i]\n",
    "        \n",
    "        o = np.exp(W.dot(x))\n",
    "        sig = o / (1 + o)\n",
    "        \n",
    "        err = sig * (1 - sig) * (sig - y)\n",
    "        \n",
    "        W -= lr * (err * x)\n",
    "        \n",
    "    acc.append(lms_accuracy(X_train, y_, W))\n",
    "    \n",
    "print(acc[-1])\n",
    "plt.plot(acc)\n",
    "plt.ylabel('Accuracy')\n",
    "plt.xlabel('epochs')"
   ]
  },
  {
   "cell_type": "code",
   "execution_count": 20,
   "metadata": {},
   "outputs": [
    {
     "name": "stdout",
     "output_type": "stream",
     "text": [
      "test accuracy 0.780\n"
     ]
    }
   ],
   "source": [
    "y_test_ = (y_test + 1)/2\n",
    "\n",
    "print('test accuracy {:.3f}'.format(lms_accuracy(X_test, y_test_, W)))"
   ]
  },
  {
   "cell_type": "markdown",
   "metadata": {},
   "source": [
    "\n",
    "## Fisher Linear Discriminant\n",
    "vary training set size and other parameters"
   ]
  },
  {
   "cell_type": "code",
   "execution_count": 21,
   "metadata": {},
   "outputs": [
    {
     "name": "stdout",
     "output_type": "stream",
     "text": [
      "[[ 630.99397187  475.93683925  430.8527706   577.89000124  494.96489668\n",
      "   428.43219479  442.03752955  536.13787998  346.00263555  558.19314023]\n",
      " [ 475.93683925  711.95473567  464.33474702  648.5942018   603.58967832\n",
      "   462.062943    504.19322095  578.31529068  436.43273237  635.32359931]\n",
      " [ 430.8527706   464.33474702  553.40808971  537.80961002  507.90902224\n",
      "   406.83420204  431.84541309  520.65373035  340.0795286   547.90545776]\n",
      " [ 577.89000124  648.5942018   537.80961002  908.52777954  683.78782881\n",
      "   575.05750239  594.44856573  675.24577801  485.29272329  710.98287911]\n",
      " [ 494.96489668  603.58967832  507.90902224  683.78782881  791.46245127\n",
      "   526.4306539   511.18809622  652.91548123  438.41416211  673.6998708 ]\n",
      " [ 428.43219479  462.062943    406.83420204  575.05750239  526.4306539\n",
      "   581.17951672  413.79197044  548.15111699  360.28014624  523.37121374]\n",
      " [ 442.03752955  504.19322095  431.84541309  594.44856573  511.18809622\n",
      "   413.79197044  620.56940949  590.63226426  344.43883148  597.49981583]\n",
      " [ 536.13787998  578.31529068  520.65373035  675.24577801  652.91548123\n",
      "   548.15111699  590.63226426  860.66454238  439.79508257  712.11042204]\n",
      " [ 346.00263555  436.43273237  340.0795286   485.29272329  438.41416211\n",
      "   360.28014624  344.43883148  439.79508257  524.65727702  472.06099312]\n",
      " [ 558.19314023  635.32359931  547.90545776  710.98287911  673.6998708\n",
      "   523.37121374  597.49981583  712.11042204  472.06099312  911.07801402]]\n",
      "[-0.0859594   0.22270358  0.19679212 -0.19956052 -0.14040387  0.2203797\n",
      "  0.2562692  -0.02982123  0.53600914 -0.39939512] [ 1.7201004   2.4554122   1.8772828   2.1529032   2.10741512  2.0847966\n",
      "  2.03183518  2.40140814  2.00898554  2.08560866]\n",
      "[-0.00012131 -0.00158138  0.00036533 -0.00023376 -0.00015243 -0.00059262\n",
      "  0.00088118 -0.00128988  0.00044614 -0.00093548]\n"
     ]
    }
   ],
   "source": [
    "W = W = np.random.randn(d, )\n",
    "n0 = 0\n",
    "n1 = 0\n",
    "M0 = np.zeros(d,)\n",
    "M1 = np.zeros(d,)\n",
    "\n",
    "M0 = np.average(X_train[y_train < 0, :], axis = 0)\n",
    "M1 = np.average(X_train[y_train > 0, :], axis = 0)\n",
    "\n",
    "Sw = np.zeros((d,d))\n",
    "\n",
    "for i in range(X_train.shape[0]):\n",
    "    if y_train[i] > 0:\n",
    "        x = X_train[i,:] - M0\n",
    "        x = x[:,np.newaxis]\n",
    "        Sw += x.dot(x.T)\n",
    "    else:\n",
    "        x = X_train[i,:] - M1 \n",
    "        x = x[:,np.newaxis]\n",
    "        Sw += x.dot(x.T)\n",
    "        \n",
    "print(Sw)\n",
    "W = np.linalg.inv(Sw).dot(M1 - M0)\n",
    "print(M1, M0)\n",
    "print(W)"
   ]
  },
  {
   "cell_type": "code",
   "execution_count": 22,
   "metadata": {},
   "outputs": [
    {
     "name": "stdout",
     "output_type": "stream",
     "text": [
      "-0.00364148605\n",
      "train accuracy:  0.86\n",
      "test accuracy:  0.77\n"
     ]
    },
    {
     "data": {
      "image/png": "[encoded data removed]",
      "text/plain": [
       "<matplotlib.figure.Figure at 0x7f1c6c0cf400>"
      ]
     },
     "metadata": {},
     "output_type": "display_data"
    }
   ],
   "source": [
    "data = X_train.dot(W)\n",
    "plt.hist(data)\n",
    "\n",
    "## Using bayes classifier and normal distribution \n",
    "## the threshold is the mean of the average\n",
    "b = (np.average(data[y_train > 0]) + np.average(data[y_train < 0]))/2\n",
    "## Considering when variance is same for both\n",
    "\n",
    "print(b)\n",
    "\n",
    "## Classifier is:\n",
    "\n",
    "accuracy = np.average(np.sign(data - b) == y_train)\n",
    "print('train accuracy: ',accuracy)\n",
    "\n",
    "test_accuracy = np.average(np.sign(X_test.dot(W) - b) == y_test)\n",
    "print('test accuracy: ',test_accuracy)\n"
   ]
  },
  {
   "cell_type": "markdown",
   "metadata": {},
   "source": [
    "<hr>"
   ]
  },
  {
   "cell_type": "markdown",
   "metadata": {},
   "source": [
    "# Testing"
   ]
  },
  {
   "cell_type": "code",
   "execution_count": 9,
   "metadata": {},
   "outputs": [
    {
     "name": "stdout",
     "output_type": "stream",
     "text": [
      "(100, 10)\n",
      "(100,)\n"
     ]
    },
    {
     "data": {
      "text/plain": [
       "<matplotlib.legend.Legend at 0x7f1c73395128>"
      ]
     },
     "execution_count": 9,
     "metadata": {},
     "output_type": "execute_result"
    },
    {
     "data": {
      "image/png": "[encoded data removed]",
      "text/plain": [
       "<matplotlib.figure.Figure at 0x7f1c6c72f470>"
      ]
     },
     "metadata": {},
     "output_type": "display_data"
    }
   ],
   "source": [
    "## Question\n",
    "test = pd.read_csv('./P3_test_data',skiprows=0, header=None)\n",
    "#print(train.head)\n",
    "\n",
    "X_test = test.values[:,0:-1]\n",
    "y_test = test.values[:,-1]\n",
    "print(X_test.shape)\n",
    "print(y_test.shape)\n",
    "\n",
    "N_test = len(X_test)\n",
    "d = X_test.shape[1] \n",
    "\n",
    "mu = np.average(X_test)\n",
    "var = np.var(X_test)\n",
    "sig = np.sqrt(var)\n",
    "\n",
    "plt.figure\n",
    "plt.hist(X_test)\n",
    "plt.legend(range(d))"
   ]
  },
  {
   "cell_type": "markdown",
   "metadata": {
    "collapsed": true
   },
   "source": [
    "# Sklearn"
   ]
  },
  {
   "cell_type": "markdown",
   "metadata": {},
   "source": [
    "## Logistic Regression"
   ]
  },
  {
   "cell_type": "code",
   "execution_count": 38,
   "metadata": {},
   "outputs": [
    {
     "name": "stdout",
     "output_type": "stream",
     "text": [
      "0.87\n",
      "0.8\n"
     ]
    }
   ],
   "source": [
    "from sklearn.linear_model import LogisticRegression\n",
    "\n",
    "clf = LogisticRegression(tol=1e-4, penalty='l2', solver ='liblinear', max_iter = 1000)\n",
    "\n",
    "clf.fit(X_train,y_train)\n",
    "\n",
    "print(clf.score(X_train, y_train))\n",
    "print(clf.score(X_test, y_test))"
   ]
  },
  {
   "cell_type": "markdown",
   "metadata": {},
   "source": [
    "## Linear Discriminant Analysis"
   ]
  },
  {
   "cell_type": "code",
   "execution_count": 32,
   "metadata": {},
   "outputs": [
    {
     "name": "stdout",
     "output_type": "stream",
     "text": [
      "0.86\n",
      "0.77\n"
     ]
    }
   ],
   "source": [
    "from sklearn.discriminant_analysis import LinearDiscriminantAnalysis\n",
    "\n",
    "\n",
    "clf = LinearDiscriminantAnalysis(solver='svd',tol=1e-4)\n",
    "\n",
    "clf.fit(X_train, y_train)\n",
    "\n",
    "print(clf.score(X_train, y_train))\n",
    "print(clf.score(X_test, y_test))\n"
   ]
  },
  {
   "cell_type": "code",
   "execution_count": null,
   "metadata": {
    "collapsed": true
   },
   "outputs": [],
   "source": []
  }
 ],
 "metadata": {
  "kernelspec": {
   "display_name": "Python 3",
   "language": "python",
   "name": "python3"
  },
  "language_info": {
   "codemirror_mode": {
    "name": "ipython",
    "version": 3
   },
   "file_extension": ".py",
   "mimetype": "text/x-python",
   "name": "python",
   "nbconvert_exporter": "python",
   "pygments_lexer": "ipython3",
   "version": "3.6.3"
  }
 },
 "nbformat": 4,
 "nbformat_minor": 2
}
